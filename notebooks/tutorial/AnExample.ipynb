{
 "cells": [
  {
   "cell_type": "markdown",
   "id": "3ca2911d-950e-4c07-8ff3-15ed6922fcf6",
   "metadata": {},
   "source": [
    "# Worked Example\n",
    "The following notebook is a worked example, where we run the code from begining to end. <br>\n",
    "<br>\n",
    "We assume that you have read the github readme and have created and activated the conda hotspots environment.<br>\n",
    "<br>\n",
    "We suggest that you follow along with the example in a terminal window. Copy and paste the commands from this notebook into the terminal window. The example was produced on a linux machine so your slash(/) might be (\\\\). Remember this is more of a recipie than a python notebook.<br>"
   ]
  },
  {
   "cell_type": "markdown",
   "id": "cfa4febc-3d57-4f52-bb0b-c62c4ddc5364",
   "metadata": {},
   "source": [
    "## Move to the scripts directory\n",
    "\n",
    "All of the commands used in this example are in the hotspots/scripts directory. Each person has a specific location where the hotspots code is for us this is:"
   ]
  },
  {
   "cell_type": "markdown",
   "id": "eb4e4ddb-ef9f-4f27-b198-78f6785c56c0",
   "metadata": {},
   "source": [
    "\n",
    "`cd python/hotspots/scripts`"
   ]
  },
  {
   "cell_type": "markdown",
   "id": "087fa8a7-ad2f-4670-ad1b-ca7296d2645b",
   "metadata": {},
   "source": [
    "## Create a location for your data\n",
    "\n",
    "You'll need to create a location to store the data and the computations in: "
   ]
  },
  {
   "cell_type": "markdown",
   "id": "1a91402c-ce77-4002-8dff-7f67559b1656",
   "metadata": {},
   "source": [
    "`mkdir ../exampledata/KFWS20190324/` <br>\n",
    "`mkdir ../exampledata/KFWS20190324/raw` <br>\n",
    "`mkdir ../exampledata/KFWS20190324/hotspots_raw` <br>\n",
    "`mkdir ../exampledata/KFWS20190324/MCIT` <br>\n",
    "`mkdir ../exampledata/KFWS20190324/StormID` <br>\n",
    "`mkdir ../exampledata/KFWS20190324/hotspots_assigned` <br>"
   ]
  },
  {
   "cell_type": "markdown",
   "id": "8b72fd2c-8e66-4628-b015-a2902a20c5f2",
   "metadata": {},
   "source": [
    "## Download some data\n",
    "\n",
    "We have provided a script to help you access level 2 data from the USA NWS archive. The script can only download the data from a single day. If you want data crosses from 23Z to 00Z you'll need to run the script twice. We do this in our example. Also the hours specificed on the command line are really strings not integers so 0Z is 00 and 2Z is 02. Example below:"
   ]
  },
  {
   "cell_type": "markdown",
   "id": "0c24ef44-d673-4565-b2dd-36898a4b7c2c",
   "metadata": {},
   "source": [
    "`python getRadarData.py -o ../exampledata/KFWS20190324/raw -d 20190324 -s 22 -e 24 -r KFWS`"
   ]
  },
  {
   "cell_type": "markdown",
   "id": "bb4f4cc8-cf65-4f70-8dde-38afd3ad26f9",
   "metadata": {},
   "source": [
    "`python getRadarData.py -o ../exampledata/KFWS20190324/raw -d 20190325 -s 00 -e 01 -r KFWS`"
   ]
  },
  {
   "cell_type": "markdown",
   "id": "6c0f8ced-c51d-4f4a-8399-4e427e502d39",
   "metadata": {},
   "source": [
    "## Create the raw hotspots\n",
    "\n",
    "The next task is to create the raw hotspots, but to do that you first need to determine the height of the -10C CAPPI. There are many ways to do this. You can use model data or a nearby sounding. We use the MDM data in the raw directory and convert the model sounding from the center point into above mean sea level in meters. The code to do this is only in C++. (sorry) You can get a nearby sounding from many places including https://weather.cod.edu/analysis/"
   ]
  },
  {
   "cell_type": "markdown",
   "id": "e196f814-c761-443b-ba5b-744e25d72ebf",
   "metadata": {},
   "source": [
    "For the KFWS case on 20190324 we have selected the AMSL height of 5040 as the height of the -10C. <br> This piece of python is quite a bit slower than the rest, because it has the most work to do. "
   ]
  },
  {
   "cell_type": "markdown",
   "id": "c440df1f-6d3c-4397-bbd4-4b55292ad758",
   "metadata": {},
   "source": [
    "`python compute_zdr_hotspots.py -i ../exampledata/KFWS20190324/raw -o ../exampledata/KFWS20190324/hotspots_raw/ -r KFWS -c 5040`"
   ]
  },
  {
   "cell_type": "markdown",
   "id": "51dda2ce-2b62-4225-8877-1b97238f82f2",
   "metadata": {},
   "source": [
    "## Create the raw MCIT data\n",
    "\n",
    "Next we create some Storm Cell Identification data. There are many storm cell identification methods. The one we use is MCIT (see github readme file) and is a watershed method. "
   ]
  },
  {
   "cell_type": "markdown",
   "id": "8cb5e99f-ab63-48b5-9829-388b15882bd4",
   "metadata": {},
   "source": [
    "`python compute_MCIT.py -i ../exampledata/KFWS20190324/raw -o ../exampledata/KFWS20190324/MCIT/ -r KFWS`"
   ]
  },
  {
   "cell_type": "markdown",
   "id": "0298faf4-3779-4ab4-b69c-c4ab66882716",
   "metadata": {},
   "source": [
    "## Create Tracked Storm Cell Identification Data\n",
    "\n",
    "We have implemented a simple overlap tracking algorithm to link storm cells identified at time (t) to storm cells at time (t-1). There are many methods to do this, but this one is particularly easy to understand. "
   ]
  },
  {
   "cell_type": "markdown",
   "id": "342eca68-40bb-4535-bd75-c63769dfb647",
   "metadata": {},
   "source": [
    "`python compute_StormID.py -i ../exampledata/KFWS20190324/MCIT -o ../exampledata/KFWS20190324/StormID/`"
   ]
  },
  {
   "cell_type": "markdown",
   "id": "980ab559-3441-4b8c-84b7-f24f0a069ff8",
   "metadata": {},
   "source": [
    "## Assign Hotspots to StormID\n",
    "We use the storm cell data to identify which hotspots are updrafts by assigning hotspots to the storms. We assign them to tracked storm cells so that the hotspots themselves can be tracked over time. Storm Cells are larger than hotspots and likely easier to track, but the storm cell identification and tracking process can also have errors in it that break hotspot time order. You can also try and assign hotspots at time (t) to hotspots at time (t-1) but we did not find that to be robust. "
   ]
  },
  {
   "cell_type": "markdown",
   "id": "1cf92040-f736-43e3-9918-605f89029d1d",
   "metadata": {},
   "source": [
    "`python compute_assigned_hotspots.py -c ../exampledata/KFWS20190324/StormID -o ../exampledata/KFWS20190324/hotspots_assigned/ -d ../exampledata/KFWS20190324/hotspots_raw/\n",
    "`"
   ]
  },
  {
   "cell_type": "markdown",
   "id": "6fbac138-59f0-4952-9a35-45000d5cfeb4",
   "metadata": {},
   "source": [
    "## Create Plots of our work\n",
    "We have created scripts that make both individual *.png files of the data as well as animated gif movies. "
   ]
  },
  {
   "cell_type": "markdown",
   "id": "016edff5-6258-439b-bf8a-e5dfafee2f81",
   "metadata": {},
   "source": [
    "`mkdir ../exampledata/KFWS20190324/plots` <br>\n",
    "`mkdir ../exampledata/KFWS20190324/plots/hotspots` <br>\n",
    "`mkdir ../exampledata/KFWS20190324/plots/stormid` <br>\n"
   ]
  },
  {
   "cell_type": "markdown",
   "id": "ee468d35-4957-4c30-b01e-3b21d9b7dc89",
   "metadata": {},
   "source": [
    "`python plot_hotspots_netcdf.py -g -o ../exampledata/KFWS20190324/plots/hotspots/ -d ../exampledata/KFWS20190324/hotspots_assigned/`\n"
   ]
  },
  {
   "cell_type": "markdown",
   "id": "aa4ad6f1-d5a4-45a8-9c37-07a3d6862f86",
   "metadata": {},
   "source": [
    "`python plot_stormid_netcdf.py -g -o ../exampledata/KFWS20190324/plots/stormid/ -d ../exampledata/KFWS20190324/StormID/`"
   ]
  },
  {
   "cell_type": "markdown",
   "id": "58af40ab-c341-4965-a142-427bd0150bdc",
   "metadata": {},
   "source": [
    "## View your plots and enjoy"
   ]
  },
  {
   "cell_type": "code",
   "execution_count": null,
   "id": "f868476b-24b9-40e0-b683-7d331a6cb6be",
   "metadata": {},
   "outputs": [],
   "source": []
  }
 ],
 "metadata": {
  "kernelspec": {
   "display_name": "Python 3 (ipykernel)",
   "language": "python",
   "name": "python3"
  },
  "language_info": {
   "codemirror_mode": {
    "name": "ipython",
    "version": 3
   },
   "file_extension": ".py",
   "mimetype": "text/x-python",
   "name": "python",
   "nbconvert_exporter": "python",
   "pygments_lexer": "ipython3",
   "version": "3.12.7"
  }
 },
 "nbformat": 4,
 "nbformat_minor": 5
}
