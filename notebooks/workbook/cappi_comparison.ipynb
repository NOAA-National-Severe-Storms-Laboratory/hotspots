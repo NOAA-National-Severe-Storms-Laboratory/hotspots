{
 "cells": [
  {
   "cell_type": "code",
   "execution_count": 1,
   "id": "initial_id",
   "metadata": {
    "ExecuteTime": {
     "end_time": "2024-05-06T12:46:06.758731Z",
     "start_time": "2024-05-06T12:44:48.988191Z"
    },
    "collapsed": true,
    "jupyter": {
     "outputs_hidden": true
    }
   },
   "outputs": [],
   "source": [
    "import matplotlib.pyplot as plt\n",
    "from pathlib import Path\n",
    "import datetime as dt\n",
    "import numpy as np\n",
    "import pyart\n",
    "\n",
    "from cappi.nexrad_wave_form import compute_nexrad_wave_form\n",
    "from cappi.prune_nexrad import prune_nexrad\n",
    "from cappi.helpers import pyart_to_xarray_vol\n",
    "from cappi.xy_cappi import raw_3dvol_to_xy, azran_to_xy\n",
    "from config import _EXAMPLEDATA_DIR"
   ]
  },
  {
   "cell_type": "markdown",
   "id": "fcb5ff06f96a41f2",
   "metadata": {},
   "source": [
    "# OPTION 1: COMPUTE THE AZRAN CAPPI @ -10°C"
   ]
  },
  {
   "cell_type": "code",
   "execution_count": 2,
   "id": "a226bb450ccaee5a",
   "metadata": {
    "ExecuteTime": {
     "end_time": "2024-05-06T12:46:40.145211Z",
     "start_time": "2024-05-06T12:46:13.462053Z"
    }
   },
   "outputs": [],
   "source": [
    "# make and save AzRan CAPPI the Python way\n",
    "\n",
    "filename = Path(_EXAMPLEDATA_DIR, 'nexrad_level2', 'KOAX20140603_213649_V06.gz')\n",
    "cappi_target_height_m = 5188.0   # -10°C isotherm height KOAX 20140603\n",
    "x_trg = np.arange(-200*1000, 200*1000+1, 1000)\n",
    "y_trg = np.arange(-200*1000, 200*1000+1, 1000)\n",
    "field = 'reflectivity'\n",
    "\n",
    "radar_vol = pyart.io.read_nexrad_archive(filename)\n",
    "nexrad_wave_form = compute_nexrad_wave_form(radar_vol)\n",
    "\n",
    "prune_actions = ['surv', 'volume']\n",
    "prune_vol = prune_nexrad(prune_actions, radar_vol)\n",
    "\n",
    "ds_vol = pyart_to_xarray_vol(prune_vol, ['reflectivity'], reindex_angle=False)\n",
    "\n",
    "# note that rawvol_to_cartesian takes the target height in m AMSL - needs to \n",
    "# be taken into account (not done yet below)\n",
    "ds_grid = raw_3dvol_to_xy(ds_vol, x_trg, y_trg, cappi_target_height_m)\n",
    "\n",
    "#out_filepath = Path(_EXAMPLEDATA_DIR, 'test', 'CAPPIneg10C_00.00_KOAX_20140603_213649.nc')\n",
    "# save to netcdf file\n",
    "#pyart.io.write_cfradial(out_filepath, cappi)"
   ]
  },
  {
   "cell_type": "code",
   "execution_count": 3,
   "id": "71f278410a625814",
   "metadata": {
    "ExecuteTime": {
     "end_time": "2024-05-06T12:47:19.623449Z",
     "start_time": "2024-05-06T12:46:49.530970Z"
    }
   },
   "outputs": [],
   "source": [
    "# load AzRan CAPPIs from the docker output\n",
    "# radar_dir = Path(_EXAMPLEDATA_DIR, 'test', 'KOAX20140603')\n",
    "# timestep = dt.datetime(2014, 6, 3, 21, 36, 50)\n",
    "# \n",
    "# cappi_docker = read_azran(\n",
    "#     radar_dir, timestep, subdir=\"CAPPI/raw\", cappi_tlevels=[\"neg10\"])\n",
    "\n",
    "# read 3D volumes instead\n",
    "# dir_day = Path(NEXRAD_DIR, \"KFWS20160411\")\n",
    "# filename_refl = Path(dir_day, \"3D\", \"Reflectivity3D_20160411-210750.netcdf\")\n",
    "# radar = read_3d_netcdf(filename_refl)"
   ]
  },
  {
   "cell_type": "code",
   "execution_count": 5,
   "id": "79daa990c9a289ac",
   "metadata": {
    "ExecuteTime": {
     "end_time": "2024-05-06T12:48:01.906888Z",
     "start_time": "2024-05-06T12:48:01.091870Z"
    }
   },
   "outputs": [],
   "source": [
    "fig = plt.figure(figsize=(12, 6))\n",
    "ax1 = fig.add_subplot(121)\n",
    "# display_docker = pyart.graph.RadarDisplay(cappi_docker)\n",
    "# display_docker.plot('reflectivity', sweep=0, ax=ax1, cmap='NWSRef', vmin=-20,\n",
    "#                     vmax=75, mask_outside=True, title_flag=False, \n",
    "#                     colorbar_flag=False)\n",
    "# display_docker.set_limits([0, 100], [-35, 65])\n",
    "# ax1.set_title('-10°C CAPPI from docker')\n",
    "# display_docker.plot_colorbar(shrink=0.75, label='Z (dBZ)')\n",
    "\n",
    "ax2 = fig.add_subplot(122)\n",
    "ds_grid['reflectivity'].plot(x=\"x\", y=\"y\", cmap='NWSRef', vmin=-20, vmax=75,\n",
    "                             xlim=(0*1000, 100*1000), ylim=(-35*1000, 65*1000))\n",
    "ax2.set_title('-10°C CAPPI from Python')\n",
    "\n",
    "for ax in [ax1, ax2]:\n",
    "    ax.set_aspect('equal')\n",
    "    \n",
    "plt.tight_layout()"
   ]
  },
  {
   "cell_type": "code",
   "execution_count": null,
   "id": "316290d67760dc0e",
   "metadata": {},
   "outputs": [],
   "source": []
  }
 ],
 "metadata": {
  "kernelspec": {
   "display_name": "Python 3 (ipykernel)",
   "language": "python",
   "name": "python3"
  },
  "language_info": {
   "codemirror_mode": {
    "name": "ipython",
    "version": 3
   },
   "file_extension": ".py",
   "mimetype": "text/x-python",
   "name": "python",
   "nbconvert_exporter": "python",
   "pygments_lexer": "ipython3",
   "version": "3.11.5"
  }
 },
 "nbformat": 4,
 "nbformat_minor": 5
}
