{
 "cells": [
  {
   "cell_type": "code",
   "execution_count": 109,
   "id": "4abe70fb",
   "metadata": {},
   "outputs": [],
   "source": [
    "#demonstration notebook for range indexing in VV"
   ]
  },
  {
   "cell_type": "code",
   "execution_count": 110,
   "id": "60d5b835",
   "metadata": {},
   "outputs": [],
   "source": [
    "import numpy as np\n",
    "import pyart\n",
    "import math\n",
    "#import pandas as pd"
   ]
  },
  {
   "cell_type": "code",
   "execution_count": 111,
   "id": "71ce3d8f",
   "metadata": {},
   "outputs": [],
   "source": [
    "  #Load the range variable\n",
    "    # if your range changes every elevation then you \n",
    "    # need to use the slower index_VV\n",
    "r2fg = 2125\n",
    "num_gates = 1200\n",
    "gate_spacing_m = 250\n",
    "\n",
    "grange = r2fg + np.arange(0, num_gates) * gate_spacing_m\n",
    "elev_range = grange #this is pretty normal for radars the gatespacing is constant in the \n",
    "#entire volume"
   ]
  },
  {
   "cell_type": "code",
   "execution_count": 112,
   "id": "c64e7ea1",
   "metadata": {},
   "outputs": [],
   "source": [
    "VV_elevation = 0.0 \n",
    "data_elevation = 45.0 #the demo is easier to see at 45 degrees of elevation\n",
    "\n",
    "vv_data = np.zeros(num_gates)\n",
    "\n",
    "radar_data = np.arange(0,num_gates) #our input data is just an increasing series\n"
   ]
  },
  {
   "cell_type": "code",
   "execution_count": 113,
   "id": "ce9cf1b7",
   "metadata": {},
   "outputs": [],
   "source": [
    "# now we convert the range at 45 degrees into a range at the vv_elevation of zero degrees\n",
    "elev_diff = data_elevation - VV_elevation\n",
    "conv_range = elev_range * math.cos(math.radians(elev_diff))"
   ]
  },
  {
   "cell_type": "code",
   "execution_count": 114,
   "id": "58a1e3bc",
   "metadata": {},
   "outputs": [],
   "source": [
    "#now we convert the above range into an index on the VV elevation\n",
    "conv_index = np.rint((conv_range-r2fg)/gate_spacing_m).astype(int)"
   ]
  },
  {
   "cell_type": "code",
   "execution_count": 115,
   "id": "960681ae",
   "metadata": {},
   "outputs": [
    {
     "name": "stdout",
     "output_type": "stream",
     "text": [
      "0  radar:  0 conv index:  -2\n",
      "1  radar:  1 conv index:  -2\n",
      "2  radar:  2 conv index:  -1\n",
      "3  radar:  3 conv index:  0\n",
      "4  radar:  4 conv index:  0\n",
      "5  radar:  5 conv index:  1\n",
      "6  radar:  6 conv index:  2\n",
      "7  radar:  7 conv index:  2\n",
      "8  radar:  8 conv index:  3\n",
      "9  radar:  9 conv index:  4\n"
     ]
    }
   ],
   "source": [
    "for i in range(0,10):\n",
    "    print(i, \" radar: \", radar_data[i], \"conv index: \", conv_index[i])"
   ]
  },
  {
   "cell_type": "code",
   "execution_count": 116,
   "id": "dfa54bc3",
   "metadata": {},
   "outputs": [],
   "source": [
    "#the negatives are bad: remove them\n",
    "\n",
    "var_index = conv_index\n"
   ]
  },
  {
   "cell_type": "code",
   "execution_count": 117,
   "id": "02668a0d",
   "metadata": {},
   "outputs": [
    {
     "name": "stdout",
     "output_type": "stream",
     "text": [
      "0  radar:  0 conv index:  -2\n",
      "1  radar:  1 conv index:  -2\n",
      "2  radar:  2 conv index:  -1\n",
      "3  radar:  3 conv index:  0\n",
      "4  radar:  4 conv index:  0\n",
      "5  radar:  5 conv index:  1\n",
      "6  radar:  6 conv index:  2\n",
      "7  radar:  7 conv index:  2\n",
      "8  radar:  8 conv index:  3\n",
      "9  radar:  9 conv index:  4\n"
     ]
    }
   ],
   "source": [
    "for i in range(0,10):\n",
    "    print(i, \" radar: \", radar_data[i], \"conv index: \", var_index[i])"
   ]
  },
  {
   "cell_type": "code",
   "execution_count": 118,
   "id": "ce0c3607",
   "metadata": {},
   "outputs": [
    {
     "name": "stdout",
     "output_type": "stream",
     "text": [
      "Range: [10341.43667485 10518.21337015 10694.99006545 10871.76676074\n",
      " 11048.54345604 11225.32015134 11402.09684663 11578.87354193\n",
      " 11755.65023723 11932.42693252 12109.20362782 12285.98032312\n",
      " 12462.75701841 12639.53371371 12816.31040901 12993.0871043\n",
      " 13169.8637996  13346.6404949  13523.41719019 13700.19388549\n",
      " 13876.97058079 14053.74727608 14230.52397138 14407.30066668\n",
      " 14584.07736197]\n"
     ]
    }
   ],
   "source": [
    "print(\"Range:\", conv_range[50:75])"
   ]
  },
  {
   "cell_type": "code",
   "execution_count": 119,
   "id": "b44eb16f",
   "metadata": {},
   "outputs": [
    {
     "name": "stdout",
     "output_type": "stream",
     "text": [
      "Index: [33 34 34 35 36 36 37 38 39 39 40 41 41 42 43 43 44 45 46 46 47 48 48 49\n",
      " 50]\n"
     ]
    }
   ],
   "source": [
    "print(\"Index:\", var_index[50:75])"
   ]
  },
  {
   "cell_type": "code",
   "execution_count": 120,
   "id": "fa076006",
   "metadata": {},
   "outputs": [],
   "source": [
    "#note all the repeated indexs! We only want one data per index!\n"
   ]
  },
  {
   "cell_type": "code",
   "execution_count": 121,
   "id": "13c02827",
   "metadata": {},
   "outputs": [],
   "source": [
    "# we want to compare var_index at i with var_index at i-1\n",
    "\n",
    "#shift the conv_index one element to the right\n",
    "shift_var_index = np.insert(var_index,0,-100, axis=0)\n",
    "\n",
    "#append a value onto the end of var_index to make them match in size\n",
    "var_index = np.append(var_index,var_index[-1])"
   ]
  },
  {
   "cell_type": "code",
   "execution_count": 122,
   "id": "25713364",
   "metadata": {},
   "outputs": [
    {
     "name": "stdout",
     "output_type": "stream",
     "text": [
      "[-2 -2 -1  0  0  1  2  2  3  4] [-100   -2   -2   -1    0    0    1    2    2    3]\n"
     ]
    }
   ],
   "source": [
    "print(var_index[0:10], shift_var_index[0:10])"
   ]
  },
  {
   "cell_type": "code",
   "execution_count": 123,
   "id": "95b2df04",
   "metadata": {},
   "outputs": [],
   "source": [
    "\n",
    "#using where identify the locations we want to keep\n",
    "non_dups = np.where(((var_index != shift_var_index) & (var_index>=0)), True, False)\n",
    "#non_dups = non_dups[np.where(var_index >0, True, False)]\n"
   ]
  },
  {
   "cell_type": "code",
   "execution_count": 124,
   "id": "7bda6f50",
   "metadata": {},
   "outputs": [],
   "source": [
    "#chop non_dups back down:\n",
    "non_dups = non_dups[0:len(non_dups)-1]\n"
   ]
  },
  {
   "cell_type": "code",
   "execution_count": 125,
   "id": "66e2e602",
   "metadata": {},
   "outputs": [
    {
     "name": "stdout",
     "output_type": "stream",
     "text": [
      "50  radar:  50 var index:  33  Keep?  True\n",
      "51  radar:  51 var index:  34  Keep?  True\n",
      "52  radar:  52 var index:  34  Keep?  False\n",
      "53  radar:  53 var index:  35  Keep?  True\n",
      "54  radar:  54 var index:  36  Keep?  True\n",
      "55  radar:  55 var index:  36  Keep?  False\n",
      "56  radar:  56 var index:  37  Keep?  True\n",
      "57  radar:  57 var index:  38  Keep?  True\n",
      "58  radar:  58 var index:  39  Keep?  True\n",
      "59  radar:  59 var index:  39  Keep?  False\n",
      "60  radar:  60 var index:  40  Keep?  True\n",
      "61  radar:  61 var index:  41  Keep?  True\n",
      "62  radar:  62 var index:  41  Keep?  False\n",
      "63  radar:  63 var index:  42  Keep?  True\n",
      "64  radar:  64 var index:  43  Keep?  True\n",
      "65  radar:  65 var index:  43  Keep?  False\n",
      "66  radar:  66 var index:  44  Keep?  True\n",
      "67  radar:  67 var index:  45  Keep?  True\n",
      "68  radar:  68 var index:  46  Keep?  True\n",
      "69  radar:  69 var index:  46  Keep?  False\n",
      "70  radar:  70 var index:  47  Keep?  True\n",
      "71  radar:  71 var index:  48  Keep?  True\n",
      "72  radar:  72 var index:  48  Keep?  False\n",
      "73  radar:  73 var index:  49  Keep?  True\n",
      "74  radar:  74 var index:  50  Keep?  True\n"
     ]
    }
   ],
   "source": [
    "for i in range(50,75):\n",
    "    print(i, \" radar: \", radar_data[i], \"var index: \", var_index[i], \" Keep? \", non_dups[i])"
   ]
  },
  {
   "cell_type": "code",
   "execution_count": 126,
   "id": "4cc994ac",
   "metadata": {},
   "outputs": [
    {
     "name": "stdout",
     "output_type": "stream",
     "text": [
      "[53 54 56 57 58 60 61 63 64 66 67 68 70 71 73]\n"
     ]
    }
   ],
   "source": [
    "#find the index's of the locations we want to keep\n",
    "vv_data = radar_data[np.where(non_dups==True)]\n",
    "print (vv_data[35:50])"
   ]
  },
  {
   "cell_type": "code",
   "execution_count": 127,
   "id": "be3b81fc",
   "metadata": {},
   "outputs": [],
   "source": [
    "#note the radar values of 52, 55, 59, 65, 69 are missing and \"false\" above"
   ]
  },
  {
   "cell_type": "code",
   "execution_count": 128,
   "id": "bd6ce4aa",
   "metadata": {},
   "outputs": [
    {
     "name": "stdout",
     "output_type": "stream",
     "text": [
      "0  radar:  3\n",
      "1  radar:  5\n",
      "2  radar:  6\n",
      "3  radar:  8\n",
      "4  radar:  9\n",
      "5  radar:  10\n",
      "6  radar:  12\n",
      "7  radar:  13\n",
      "8  radar:  15\n",
      "9  radar:  16\n"
     ]
    }
   ],
   "source": [
    "for i in range(0,10):\n",
    "    print(i, \" radar: \", vv_data[i])"
   ]
  },
  {
   "cell_type": "code",
   "execution_count": 129,
   "id": "a88e5854",
   "metadata": {},
   "outputs": [],
   "source": [
    "#if you look above \"3\" is the fisrt value with index 0"
   ]
  }
 ],
 "metadata": {
  "kernelspec": {
   "display_name": "Python 3 (ipykernel)",
   "language": "python",
   "name": "python3"
  },
  "language_info": {
   "codemirror_mode": {
    "name": "ipython",
    "version": 3
   },
   "file_extension": ".py",
   "mimetype": "text/x-python",
   "name": "python",
   "nbconvert_exporter": "python",
   "pygments_lexer": "ipython3",
   "version": "3.11.5"
  }
 },
 "nbformat": 4,
 "nbformat_minor": 5
}
