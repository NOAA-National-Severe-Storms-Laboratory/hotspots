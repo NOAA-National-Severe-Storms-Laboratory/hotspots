{
 "cells": [
  {
   "cell_type": "code",
   "execution_count": 1,
   "id": "d2578b37",
   "metadata": {
    "ExecuteTime": {
     "end_time": "2024-05-08T07:35:32.864526Z",
     "start_time": "2024-05-08T07:35:16.391419Z"
    }
   },
   "source": [
    "from pathlib import Path\n",
    "import pyart\n",
    "import numpy as np\n",
    "from scipy.ndimage import uniform_filter1d\n",
    "import copy\n",
    "import pandas as pd\n",
    "\n",
    "import xarray as xr\n",
    "import cv2\n",
    "\n"
   ],
   "outputs": []
  },
  {
   "cell_type": "code",
   "id": "ece800e8",
   "metadata": {
    "ExecuteTime": {
     "end_time": "2024-10-19T08:20:47.038295Z",
     "start_time": "2024-10-19T08:20:44.579637Z"
    }
   },
   "source": [
    "\n",
    "from prepro.nexrad import prune_nexrad\n",
    "from cappi.azran import make_cappi\n",
    "from cappi.make_vv import simple_vv\n",
    "from mcit.vil import get_vil_from_azran\n",
    "\n",
    "#viewable plots\n",
    "import matplotlib.pyplot as plt\n",
    "from klaus_krause_cmap import get_zdr_cmap\n",
    "from config import _EXAMPLEDATA_DIR\n",
    "\n"
   ],
   "outputs": [
    {
     "name": "stdout",
     "output_type": "stream",
     "text": [
      "\n",
      "## You are using the Python ARM Radar Toolkit (Py-ART), an open source\n",
      "## library for working with weather radar data. Py-ART is partly\n",
      "## supported by the U.S. Department of Energy as part of the Atmospheric\n",
      "## Radiation Measurement (ARM) Climate Research Facility, an Office of\n",
      "## Science user facility.\n",
      "##\n",
      "## If you use this software to prepare a publication, please cite:\n",
      "##\n",
      "##     JJ Helmus and SM Collis, JORS 2016, doi: 10.5334/jors.119\n",
      "\n"
     ]
    },
    {
     "ename": "ImportError",
     "evalue": "cannot import name 'indexed_vv' from 'cappi.make_vv' (F:\\BOKU\\CIWRO\\hotspots\\cappi\\make_vv.py)",
     "output_type": "error",
     "traceback": [
      "\u001B[1;31m---------------------------------------------------------------------------\u001B[0m",
      "\u001B[1;31mImportError\u001B[0m                               Traceback (most recent call last)",
      "Cell \u001B[1;32mIn[1], line 3\u001B[0m\n\u001B[0;32m      1\u001B[0m \u001B[38;5;28;01mfrom\u001B[39;00m \u001B[38;5;21;01mcappi\u001B[39;00m\u001B[38;5;21;01m.\u001B[39;00m\u001B[38;5;21;01mprune_nexrad\u001B[39;00m \u001B[38;5;28;01mimport\u001B[39;00m prune_nexrad\n\u001B[0;32m      2\u001B[0m \u001B[38;5;28;01mfrom\u001B[39;00m \u001B[38;5;21;01mcappi\u001B[39;00m\u001B[38;5;21;01m.\u001B[39;00m\u001B[38;5;21;01mazran\u001B[39;00m \u001B[38;5;28;01mimport\u001B[39;00m make_cappi\n\u001B[1;32m----> 3\u001B[0m \u001B[38;5;28;01mfrom\u001B[39;00m \u001B[38;5;21;01mcappi\u001B[39;00m\u001B[38;5;21;01m.\u001B[39;00m\u001B[38;5;21;01mmake_vv\u001B[39;00m \u001B[38;5;28;01mimport\u001B[39;00m simple_vv, indexed_vv\n\u001B[0;32m      4\u001B[0m \u001B[38;5;28;01mfrom\u001B[39;00m \u001B[38;5;21;01mmcit\u001B[39;00m\u001B[38;5;21;01m.\u001B[39;00m\u001B[38;5;21;01mvil\u001B[39;00m \u001B[38;5;28;01mimport\u001B[39;00m get_vil_from_azran\n\u001B[0;32m      6\u001B[0m \u001B[38;5;66;03m#viewable plots\u001B[39;00m\n",
      "\u001B[1;31mImportError\u001B[0m: cannot import name 'indexed_vv' from 'cappi.make_vv' (F:\\BOKU\\CIWRO\\hotspots\\cappi\\make_vv.py)"
     ]
    }
   ],
   "execution_count": 1
  },
  {
   "cell_type": "code",
   "execution_count": 3,
   "id": "528fac5c",
   "metadata": {
    "ExecuteTime": {
     "end_time": "2024-05-08T07:35:37.605065Z",
     "start_time": "2024-05-08T07:35:36.786205Z"
    }
   },
   "source": [
    "filename = Path(_EXAMPLEDATA_DIR, 'nexrad_level2', 'KUDX20150620_040849_V06.gz')\n",
    "#filename = Path(_EXAMPLEDATA_DIR, 'nexrad_level2', 'KOAX20140603_213649_V06.gz')\n",
    "#filename = Path(_EXAMPLEDATA_DIR, 'nexrad_level2', 'KEWX20210504_020040_V06')\n",
    "#filename = Path(_EXAMPLEDATA_DIR, 'nexrad_level2', 'KSHV20230613_230228_V06')\n",
    "#filename = Path_EXAMPLEDATA_DIR, 'nexrad_level2', 'KTLX20160526_215113_V06')\n",
    "#filename = Path(_EXAMPLEDATA_DIR, 'nexrad_level2', 'KTLX20200422_023145_V06')\n",
    "#read in the Level 2 WSR-88D data as a pyart object\n",
    "radar_vol = pyart.io.read_nexrad_archive(filename)\n",
    "radar_vol.info()\n"
   ],
   "outputs": []
  },
  {
   "cell_type": "code",
   "execution_count": 4,
   "id": "802fd8f9",
   "metadata": {
    "ExecuteTime": {
     "end_time": "2024-05-08T07:35:38.560907Z",
     "start_time": "2024-05-08T07:35:38.232740Z"
    },
    "scrolled": true
   },
   "source": [
    "#remove extra sweeps of data. Keep only data\n",
    "#from the survelience cuts and one cut per volume \n",
    "prune_actions = ['surv', 'volume']\n",
    "prune_vol = prune_nexrad(prune_actions, radar_vol)\n",
    "\n",
    "#from hotspots.io.radarinfo import get_project_root, read_nexrad_radarinfo\n",
    "#print(get_project_root())\n",
    "#radar_info = read_nexrad_radarinfo()\n",
    "#print(radar_info)\n"
   ],
   "outputs": []
  },
  {
   "cell_type": "code",
   "execution_count": 5,
   "id": "1b957d63",
   "metadata": {},
   "source": [
    "import matplotlib.pyplot as plt\n",
    "display = pyart.graph.RadarDisplay(prune_vol)\n",
    "\n",
    "display.plot_ppi('reflectivity', sweep=0)\n",
    "plt.show()"
   ],
   "outputs": []
  },
  {
   "cell_type": "code",
   "execution_count": 6,
   "id": "703c8b8a",
   "metadata": {},
   "source": [
    "#w_phase = pyart.correct.unwrap.dealias_unwrap_phase(prune_vol, unwrap_unit='volume')\n",
    "#rune_vol.add_field(\"unwrapped_differential_phase\", uw_phase)\n",
    "prune_vol.info()\n"
   ],
   "outputs": []
  },
  {
   "cell_type": "code",
   "execution_count": 7,
   "id": "02b35f8e",
   "metadata": {},
   "source": [
    "def consecutive(data, stepsize=1):\n",
    "    return np.split(data, np.where(np.diff(data) != stepsize)[0]+1)"
   ],
   "outputs": []
  },
  {
   "cell_type": "code",
   "execution_count": 8,
   "id": "b98b0eb4",
   "metadata": {},
   "source": [
    "def linear_interp(data, first_index, last_index, verbose=False):\n",
    "    #send data and two indexs, returns data with linear interploation\n",
    "    start_data = data[first_index]\n",
    "    end_data = data[last_index]\n",
    "    if end_data == np.nan:\n",
    "        end_data = start_data\n",
    "        \n",
    "    dist = last_index - first_index\n",
    "    if verbose:\n",
    "        print('fi: ', first_index, ' li: ', last_index, 'start_data: ', start_data, ' end: ', end_data)\n",
    "    for i in range(first_index, last_index, 1):\n",
    "        data[i] = start_data + (end_data - start_data)*(i-first_index)/(last_index-first_index)\n",
    "        if verbose:\n",
    "            print(i, ' fi: ', first_index, ' li: ', last_index, 'start_data: ', start_data, ' end: ', end_data, ' ', data[i])"
   ],
   "outputs": []
  },
  {
   "cell_type": "code",
   "execution_count": null,
   "id": "1e25a912",
   "metadata": {},
   "source": [
    "\n",
    "    "
   ],
   "outputs": []
  },
  {
   "cell_type": "code",
   "execution_count": 11,
   "id": "d00d356b",
   "metadata": {},
   "source": [
    "#\n",
    "#Eventually our goal here is to create the entire nORPG PreProcessor stack, but at\n",
    "#the moment we need the work done on the reflectivity and the zdr fields, which is\n",
    "#easier and faster than the computation of KDP. So skipping the KDP computation\n",
    "#we replicate the smoothing and attenuation corrections done on the ORPG\n",
    "#\n",
    "#we use the nORPG name to identify that we are targeting the ORPG, but we cannot\n",
    "#stay totally upto date with it.\n",
    "#\n",
    "from pyart.util.sigmath import rolling_window\n",
    "from prepro.process_phase import unwrap_phase, compute_min_system_phase, correct_system_phase\n",
    "np.set_printoptions(suppress=True)\n",
    "#basic plan:\n",
    "#  unwrap_phi\n",
    "pyart_vol = prune_vol\n",
    "#\n",
    "sweeps = pyart_vol.sweep_number['data']\n",
    "\n",
    "#extract a sweep of phi and rhv\n",
    "\n",
    "#print('working...will notify at end')\n",
    "si= 100\n",
    "ei = 200\n",
    "ia = 16000\n",
    "#our output target\n",
    "uw_phi = copy.deepcopy(pyart_vol.fields['differential_phase'])\n",
    "\n",
    "cc_field = copy.deepcopy(pyart_vol.fields['cross_correlation_ratio'])\n",
    "\n",
    "sm_phase = copy.deepcopy(pyart_vol.fields['differential_phase'])\n",
    "#fixme\n",
    "#check for matching azimuth in rhv_field and adjust it to match the phi_field\n",
    "#right now assume they match in azimuth\n",
    "missing_value = cc_field[\"_FillValue\"]    \n",
    "\n",
    "\n",
    "#for s in range(len(sweeps)):\n",
    "for s in range(1):\n",
    "    #which data do we use?\n",
    "    start_index, end_index = prune_vol.get_start_end(s)\n",
    "    print(s, 'sweep_num: ', sweeps[s], 'start: ', start_index, ' end: ', end_index)\n",
    "    #our output target\n",
    "    radar_sweep = pyart_vol.extract_sweeps(sweeps=[s])\n",
    "    #compute_min_system_phase\n",
    "    uw_phi_data = np.array(radar_sweep.fields['differential_phase']['data'])\n",
    "    cc_data = np.array(radar_sweep.fields['cross_correlation_ratio']['data'])\n",
    "    \n",
    "    corr_phi, min_system_phase = correct_system_phase(uw_phi_data, cc_data)\n",
    "    #min_system_phase = compute_min_system_phase(uw_phi['data'], cc_field['data'], missing_value=-9999.0)\n",
    "    #print('min_sys_phase: ', min_sys_phase)\n",
    "    \n",
    "    for a in range(radar_sweep.nrays):\n",
    "        #print ('a: ', a)\n",
    "        #we unwrap phase like the ORPG here\n",
    "        phi_radial_raw = corr_phi[a]\n",
    "        num_gates = len(phi_radial_raw)-1\n",
    "        if a == ia:\n",
    "            print('phi_raw', phi_radial_raw[si:ei])\n",
    "        \n",
    "        #phi = np.where(phi_radial_raw<0, np.nan, phi_radial_raw)\n",
    "        #threshold based on cc\n",
    "        cc = np.array(cc_data[a])\n",
    "        \n",
    "        #We threshold by cc, but there are many ways to threshold the phi data\n",
    "        #that sort the data into good and bad regions. \n",
    "        #The ORPG uses the MetSignal Alg to do this.\n",
    "        #\n",
    "        \n",
    "        phase_window = 9\n",
    "        phase_std_thresh=10\n",
    "        cc_thresh=0.7\n",
    "        #\n",
    "        window_size = phase_window\n",
    "        half_ws = int(np.floor(window_size/2))\n",
    "        \n",
    "        uw_phase = copy.deepcopy(phi_radial_raw)\n",
    "        ray = np.ma.std(rolling_window(uw_phase[:],window_size), 1)\n",
    "        \n",
    "        phase_std = np.zeros_like(phi_radial_raw)\n",
    "        phase_std[half_ws:-half_ws] = ray\n",
    "        phase_std[0:half_ws] = np.ones(half_ws) * ray[0]\n",
    "        phase_std[-half_ws:] = np.ones(half_ws) * ray[-1]\n",
    "\n",
    "        uw_phase = copy.deepcopy(phi_radial_raw)\n",
    "        ray = np.ma.median(rolling_window(uw_phase[:],window_size), 1)\n",
    "        \n",
    "        phase_median = np.zeros_like(phi_radial_raw)\n",
    "        phase_median[half_ws:-half_ws] = ray\n",
    "        phase_median[0:half_ws] = np.ones(half_ws) * ray[0]\n",
    "        phase_median[-half_ws:] = np.ones(half_ws) * ray[-1]\n",
    "\n",
    "        phase = copy.deepcopy(phase_median)\n",
    "        #threshold off the bad data, keep the good data\n",
    "        phase[phase_std > phase_std_thresh] = np.nan\n",
    "        phase[cc < cc_thresh] = np.nan\n",
    "\n",
    "        valid_idx = np.where(~np.isnan(phase))[0]\n",
    "        valid_intervals = consecutive(valid_idx)\n",
    "        \n",
    "        if a== ia:\n",
    "            print('phase_median: ', phase_median[0:25])\n",
    "            print('phase_std: ', phase_std[0:25])\n",
    "            print('cc: ', cc[0:25])\n",
    "            print('phase: ', phase[0:25])\n",
    "            print('valid_idx: ', valid_idx[0:25])\n",
    "            print('valid: ', valid_intervals)\n",
    "            \n",
    "        #\n",
    "        #This is where things get messy. Each tuple in the valid_intervals\n",
    "        #can be trimmed to be conservative or not. How much to trim is also \n",
    "        #a bit of a guess. The edges of the good data intervals can be \n",
    "        #inaccurate causing negative values of phase, which are objectionable.\n",
    "        #Another way to smooth out \n",
    "        #the phase is to require that the new interval start near where the old\n",
    "        #interval ended. Which is conceptually pleasing, but hard because there\n",
    "        #can be a strong positive bias at the end of the intervals. \n",
    "        min_interval_length = 9\n",
    "        final_int = []\n",
    "        for interval in valid_intervals:\n",
    "            if len(interval) >= phase_window:\n",
    "                #possibly trim the interval here to remove\n",
    "                # a few gates on the front and back to be conservative\n",
    "                # usually half the min_interval_length (4) or 0.25 of min_interval_length (2)\n",
    "                #we'll keep this one\n",
    "                final_int.append(interval)        \n",
    "                \n",
    "        #push the last value on to get interplation to the end of the radial   \n",
    "        #final_int.append([num_gates-1, num_gates-1])\n",
    "        \n",
    "        if a == ia:                                 \n",
    "            print('final_int: ',final_int)\n",
    "        #phi_final = np.zeros_like(phi)\n",
    "        #phi[:] = min_system_phase\n",
    "      \n",
    "        last_int_idx = 0\n",
    "        phase[0] = 0\n",
    "        for f in final_int:\n",
    "            #linearly interpret the phase along the radial from the last_phase_value\n",
    "            #to the first phase value of the new interval.\n",
    "            if a == ia:\n",
    "                linear_interp(phase, last_int_idx, f[0], False)\n",
    "            else:\n",
    "                linear_interp(phase, last_int_idx, f[0], False)\n",
    "            last_int_idx = f[-1]\n",
    "           \n",
    "        if len(final_int) > 0:\n",
    "            last_int = final_int[-1]\n",
    "            last_valid = last_int[-1]\n",
    "            last_value = phase[last_valid]\n",
    "            phase[last_valid:-1] = last_value\n",
    "        else:\n",
    "            phase[:] = 0.0\n",
    "        \n",
    "        if a == ia:\n",
    "            print('last_int:', last_int)\n",
    "            print('last_valid: ', last_valid)\n",
    "            print('last_value', last_value)\n",
    "            print('cc: ', cc[0:100])\n",
    "            print('initial: ', phi_radial_raw[0:100])\n",
    "            print('phase: ',phase[0:100])\n",
    "            \n",
    "        sm_phase['data'][a] = phase\n",
    "        "
   ],
   "outputs": []
  },
  {
   "cell_type": "code",
   "execution_count": 12,
   "id": "7eefbcc1",
   "metadata": {},
   "source": [
    "#add the unwrapped Phi to the pyart object:\n",
    "prune_vol.add_field('processed_phase', sm_phase, replace_existing=True)\n",
    "prune_vol.info()"
   ],
   "outputs": []
  },
  {
   "cell_type": "code",
   "execution_count": 13,
   "id": "9d5ca820",
   "metadata": {},
   "source": [
    "gatefilter = pyart.correct.GateFilter(prune_vol)\n",
    "gatefilter.exclude_below('cross_correlation_ratio', 0.85)\n",
    "\n",
    "cor_diff_phase_pyart = pyart.correct.phase_proc.get_phidp_unf_gf(\n",
    "    prune_vol, gatefilter)\n",
    "\n",
    "# optional for smoothing\n",
    "smoothed_diffphase = pyart.correct.phase_proc.smooth_masked(\n",
    "    cor_diff_phase_pyart)\n",
    "prune_vol.add_field_like('differential_phase',\n",
    "                          'unwrapped_differential_phase_pyart',\n",
    "                          smoothed_diffphase, replace_existing=True)\n"
   ],
   "outputs": []
  },
  {
   "cell_type": "code",
   "execution_count": 14,
   "id": "d4d6859c",
   "metadata": {},
   "source": [
    "display = pyart.graph.RadarDisplay(prune_vol)\n",
    "\n",
    "# sweep comparison\n",
    "fig = plt.figure(figsize=(14, 4))\n",
    "xlim = [0, 300]\n",
    "ylim = [-50, 250]\n",
    "vmax = 400\n",
    "ax1 = fig.add_subplot(131)\n",
    "display.plot_ppi('differential_phase', sweep=0, vmin=0.1, vmax=vmax, mask_outside=True,\n",
    "                 colorbar_flag=False, title_flag=False)\n",
    "display.set_limits(xlim, ylim)\n",
    "display.plot_colorbar(extend='both', shrink=0.9)\n",
    "ax1.set_title('Original NEXRAD Level II')\n",
    "\n",
    "ax2 = fig.add_subplot(132)\n",
    "display.plot_ppi('processed_phase', sweep=0,\n",
    "                 cmap='pyart_Wild25', vmin=0.1, vmax=vmax, mask_outside=True,\n",
    "                 colorbar_flag=False, title_flag=False)\n",
    "display.set_limits(xlim, ylim)\n",
    "\n",
    "display.plot_colorbar(extend='both', shrink=0.9)\n",
    "ax2.set_title(\"JK Advanced Computing Facility\")\n",
    "\n",
    "ax3 = fig.add_subplot(133)\n",
    "display.plot_ppi('unwrapped_differential_phase_pyart', sweep=0,\n",
    "                 cmap='pyart_Wild25', vmin=0.1, vmax=vmax, mask_outside=True,\n",
    "                 colorbar_flag=False, title_flag=False)\n",
    "display.set_limits(xlim, ylim)\n",
    "display.plot_colorbar(extend='both', shrink=0.9)\n",
    "ax3.set_title('Py-ART unwrapping')\n",
    "\n",
    "for ax in [ax1, ax2, ax3]:\n",
    "    ax.set_aspect('equal')\n",
    "\n",
    "time0 = pyart.util.datetime_from_radar(prune_vol)\n",
    "radarname = prune_vol.metadata['instrument_name']\n",
    "fig.suptitle(radarname + str(time0), fontweight='bold', fontsize=20)\n",
    "\n",
    "plt.tight_layout()\n",
    "\n",
    "plt.show()\n",
    "\n"
   ],
   "outputs": []
  },
  {
   "cell_type": "code",
   "execution_count": null,
   "id": "2fceb041",
   "metadata": {},
   "source": [],
   "outputs": []
  },
  {
   "cell_type": "code",
   "execution_count": null,
   "id": "2c010da2",
   "metadata": {},
   "source": [],
   "outputs": []
  },
  {
   "cell_type": "code",
   "execution_count": null,
   "id": "b8c28c78",
   "metadata": {
    "ExecuteTime": {
     "end_time": "2024-05-08T07:35:39.772602Z",
     "start_time": "2024-05-08T07:35:38.951134Z"
    },
    "scrolled": true
   },
   "source": [
    "\n"
   ],
   "outputs": []
  },
  {
   "cell_type": "code",
   "execution_count": null,
   "id": "5d4f0433",
   "metadata": {},
   "source": [],
   "outputs": []
  }
 ],
 "metadata": {
  "kernelspec": {
   "display_name": "Python 3 (ipykernel)",
   "language": "python",
   "name": "python3"
  },
  "language_info": {
   "codemirror_mode": {
    "name": "ipython",
    "version": 3
   },
   "file_extension": ".py",
   "mimetype": "text/x-python",
   "name": "python",
   "nbconvert_exporter": "python",
   "pygments_lexer": "ipython3",
   "version": "3.11.5"
  }
 },
 "nbformat": 4,
 "nbformat_minor": 5
}
